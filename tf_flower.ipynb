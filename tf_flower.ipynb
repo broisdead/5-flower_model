{
  "nbformat": 4,
  "nbformat_minor": 0,
  "metadata": {
    "colab": {
      "provenance": [],
      "gpuType": "T4"
    },
    "kernelspec": {
      "name": "python3",
      "display_name": "Python 3"
    },
    "language_info": {
      "name": "python"
    },
    "accelerator": "GPU"
  },
  "cells": [
    {
      "cell_type": "code",
      "execution_count": 1,
      "metadata": {
        "id": "jWerOutrCsKW"
      },
      "outputs": [],
      "source": [
        "# IMPORTS\n",
        "import tensorflow as tf\n",
        "import tensorflow_datasets as tfds\n",
        "from tensorflow.keras import layers, models\n",
        "from tensorflow.keras.applications import vgg16, vgg19\n",
        "from tensorflow.keras.mixed_precision import set_global_policy\n",
        "set_global_policy('mixed_float16')"
      ]
    },
    {
      "cell_type": "markdown",
      "source": [],
      "metadata": {
        "id": "Aih9Uq3Q29JF"
      }
    },
    {
      "cell_type": "code",
      "source": [
        "# DATA LOADING\n",
        "\n",
        "(ds_train, ds_val, ds_test), ds_info = tfds.load(\n",
        "\"tf_flowers\", # dataset name\n",
        "split=[\"train[:80%]\", \"train[80%:90%]\", \"train[90%:]\"],\n",
        "with_info=True,\n",
        "as_supervised=True\n",
        ")\n",
        "num_classes = ds_info.features[\"label\"].num_classes # number of classes\n",
        "IMG_SIZE = (224,244) # image size"
      ],
      "metadata": {
        "id": "NnN90taeDRpM"
      },
      "execution_count": 2,
      "outputs": []
    },
    {
      "cell_type": "code",
      "source": [
        "# Preprocessing\n",
        "def preprocess(image, label):\n",
        "  image = tf.image.resize(image, IMG_SIZE)\n",
        "  image = tf.cast(image, tf.float16)\n",
        "  image = vgg16.preprocess_input(image)  # preprocessing function (depends on VGG)\n",
        "  return image, label\n",
        "BATCH = 128\n",
        "train_ds = ds_train.map(preprocess).batch(BATCH).prefetch(tf.data.AUTOTUNE)\n",
        "val_ds = ds_val.map(preprocess).batch(BATCH).prefetch(tf.data.AUTOTUNE)\n",
        "\n",
        "test_ds = ds_test.map(preprocess).batch(BATCH).prefetch(tf.data.AUTOTUNE)"
      ],
      "metadata": {
        "id": "UVyxylM2EB1D"
      },
      "execution_count": 3,
      "outputs": []
    },
    {
      "cell_type": "code",
      "source": [
        "# MODEL CREATION\n",
        "base_model = vgg16.VGG16(\n",
        "include_top=False,\n",
        "weights=\"imagenet\", # pretrained weights\n",
        "input_shape=IMG_SIZE + (3,)\n",
        ")\n",
        "# Freeze or unfreeze layers\n",
        "for layer in base_model.layers:\n",
        "  layer.trainable = False"
      ],
      "metadata": {
        "colab": {
          "base_uri": "https://localhost:8080/"
        },
        "id": "pRrIiiyNElJE",
        "outputId": "5ba32e31-2e88-4d02-c6aa-ec23b8b213c2"
      },
      "execution_count": 4,
      "outputs": [
        {
          "output_type": "stream",
          "name": "stdout",
          "text": [
            "Downloading data from https://storage.googleapis.com/tensorflow/keras-applications/vgg16/vgg16_weights_tf_dim_ordering_tf_kernels_notop.h5\n",
            "\u001b[1m58889256/58889256\u001b[0m \u001b[32m━━━━━━━━━━━━━━━━━━━━\u001b[0m\u001b[37m\u001b[0m \u001b[1m0s\u001b[0m 0us/step\n"
          ]
        }
      ]
    },
    {
      "cell_type": "code",
      "source": [
        "# Classification head\n",
        "x = layers.GlobalAveragePooling2D()(base_model.output) # pooling layer\n",
        "x = layers.Dropout(0.5)(x) # dropout rate\n",
        "outputs = layers.Dense(num_classes, activation=\"softmax\")(x)\n",
        "model = models.Model(inputs=base_model.input, outputs=outputs)"
      ],
      "metadata": {
        "id": "eDgwZ6EvHTmP"
      },
      "execution_count": 5,
      "outputs": []
    },
    {
      "cell_type": "code",
      "source": [
        "\n",
        "# COMPILATION\n",
        "model.compile(\n",
        "optimizer=tf.keras.optimizers.Adam(learning_rate=0.001),\n",
        "loss=\"sparse_categorical_crossentropy\", # loss function\n",
        "metrics=[ \"accuracy\" ]\n",
        ")\n",
        "\n"
      ],
      "metadata": {
        "id": "kjDoR0EmFiw6"
      },
      "execution_count": 6,
      "outputs": []
    },
    {
      "cell_type": "code",
      "source": [
        "# TRAINING\n",
        "history = model.fit(\n",
        "train_ds,\n",
        "validation_data=val_ds,\n",
        "epochs=5\n",
        ")"
      ],
      "metadata": {
        "colab": {
          "base_uri": "https://localhost:8080/"
        },
        "id": "NP1oUPeyHxaT",
        "outputId": "ec1f3fdc-adb0-44ba-e334-1da0d5dd9776"
      },
      "execution_count": 7,
      "outputs": [
        {
          "output_type": "stream",
          "name": "stdout",
          "text": [
            "Epoch 1/5\n",
            "\u001b[1m23/23\u001b[0m \u001b[32m━━━━━━━━━━━━━━━━━━━━\u001b[0m\u001b[37m\u001b[0m \u001b[1m131s\u001b[0m 4s/step - accuracy: 0.2252 - loss: 7.3398 - val_accuracy: 0.3787 - val_loss: 3.6522\n",
            "Epoch 2/5\n",
            "\u001b[1m23/23\u001b[0m \u001b[32m━━━━━━━━━━━━━━━━━━━━\u001b[0m\u001b[37m\u001b[0m \u001b[1m9s\u001b[0m 389ms/step - accuracy: 0.3610 - loss: 5.2626 - val_accuracy: 0.6594 - val_loss: 1.8100\n",
            "Epoch 3/5\n",
            "\u001b[1m23/23\u001b[0m \u001b[32m━━━━━━━━━━━━━━━━━━━━\u001b[0m\u001b[37m\u001b[0m \u001b[1m10s\u001b[0m 375ms/step - accuracy: 0.5045 - loss: 3.5435 - val_accuracy: 0.7248 - val_loss: 1.1917\n",
            "Epoch 4/5\n",
            "\u001b[1m23/23\u001b[0m \u001b[32m━━━━━━━━━━━━━━━━━━━━\u001b[0m\u001b[37m\u001b[0m \u001b[1m10s\u001b[0m 350ms/step - accuracy: 0.6150 - loss: 2.3844 - val_accuracy: 0.7929 - val_loss: 0.9988\n",
            "Epoch 5/5\n",
            "\u001b[1m23/23\u001b[0m \u001b[32m━━━━━━━━━━━━━━━━━━━━\u001b[0m\u001b[37m\u001b[0m \u001b[1m10s\u001b[0m 327ms/step - accuracy: 0.6657 - loss: 1.9270 - val_accuracy: 0.8120 - val_loss: 0.8883\n"
          ]
        }
      ]
    },
    {
      "cell_type": "code",
      "source": [
        "# EVALUATION\n",
        "test_loss, test_acc = model.evaluate(test_ds)\n",
        "print(\"Test accuracy:\", test_acc)"
      ],
      "metadata": {
        "colab": {
          "base_uri": "https://localhost:8080/"
        },
        "id": "Fu4SJvwHH2-I",
        "outputId": "f25a3090-5891-487d-d656-912790612abd"
      },
      "execution_count": 8,
      "outputs": [
        {
          "output_type": "stream",
          "name": "stdout",
          "text": [
            "\u001b[1m3/3\u001b[0m \u001b[32m━━━━━━━━━━━━━━━━━━━━\u001b[0m\u001b[37m\u001b[0m \u001b[1m2s\u001b[0m 625ms/step - accuracy: 0.7775 - loss: 0.9247\n",
            "Test accuracy: 0.7874659299850464\n"
          ]
        }
      ]
    },
    {
      "cell_type": "code",
      "source": [
        "# MODEL CREATION 2\n",
        "base_model = vgg16.VGG16(\n",
        "include_top=False,\n",
        "weights=\"imagenet\", # pretrained weights\n",
        "input_shape=IMG_SIZE + (3,)\n",
        ")\n",
        "# Freeze or unfreeze layers\n",
        "for layer in base_model.layers:\n",
        "  layer.trainable = True"
      ],
      "metadata": {
        "id": "RMxKjgVGPgpA"
      },
      "execution_count": 9,
      "outputs": []
    },
    {
      "cell_type": "code",
      "source": [
        "\n",
        "# COMPILATION 2\n",
        "model.compile(\n",
        "optimizer=tf.keras.optimizers.Adam(learning_rate=0.0001),\n",
        "loss=\"sparse_categorical_crossentropy\", # loss function\n",
        "metrics=[ \"accuracy\" ]\n",
        ")\n",
        "\n"
      ],
      "metadata": {
        "id": "ItjOGNEuR6rm"
      },
      "execution_count": 10,
      "outputs": []
    },
    {
      "cell_type": "code",
      "source": [
        "# TRAINING 2\n",
        "history = model.fit(\n",
        "train_ds,\n",
        "validation_data=val_ds,\n",
        "epochs=5\n",
        ")"
      ],
      "metadata": {
        "colab": {
          "base_uri": "https://localhost:8080/"
        },
        "id": "32FF9ecCSIGK",
        "outputId": "316c0b18-ac99-4223-f7cb-c12a5474974e"
      },
      "execution_count": 11,
      "outputs": [
        {
          "output_type": "stream",
          "name": "stdout",
          "text": [
            "Epoch 1/5\n",
            "\u001b[1m23/23\u001b[0m \u001b[32m━━━━━━━━━━━━━━━━━━━━\u001b[0m\u001b[37m\u001b[0m \u001b[1m21s\u001b[0m 621ms/step - accuracy: 0.6933 - loss: 1.5943 - val_accuracy: 0.8147 - val_loss: 0.8857\n",
            "Epoch 2/5\n",
            "\u001b[1m23/23\u001b[0m \u001b[32m━━━━━━━━━━━━━━━━━━━━\u001b[0m\u001b[37m\u001b[0m \u001b[1m8s\u001b[0m 351ms/step - accuracy: 0.7010 - loss: 1.5609 - val_accuracy: 0.8174 - val_loss: 0.8827\n",
            "Epoch 3/5\n",
            "\u001b[1m23/23\u001b[0m \u001b[32m━━━━━━━━━━━━━━━━━━━━\u001b[0m\u001b[37m\u001b[0m \u001b[1m12s\u001b[0m 425ms/step - accuracy: 0.6987 - loss: 1.6183 - val_accuracy: 0.8174 - val_loss: 0.8680\n",
            "Epoch 4/5\n",
            "\u001b[1m23/23\u001b[0m \u001b[32m━━━━━━━━━━━━━━━━━━━━\u001b[0m\u001b[37m\u001b[0m \u001b[1m10s\u001b[0m 442ms/step - accuracy: 0.7130 - loss: 1.5915 - val_accuracy: 0.8202 - val_loss: 0.8521\n",
            "Epoch 5/5\n",
            "\u001b[1m23/23\u001b[0m \u001b[32m━━━━━━━━━━━━━━━━━━━━\u001b[0m\u001b[37m\u001b[0m \u001b[1m9s\u001b[0m 383ms/step - accuracy: 0.7113 - loss: 1.5566 - val_accuracy: 0.8202 - val_loss: 0.8428\n"
          ]
        }
      ]
    },
    {
      "cell_type": "code",
      "source": [
        "# EVALUATION 2\n",
        "test_loss, test_acc = model.evaluate(test_ds)\n",
        "print(\"Test accuracy:\", test_acc)"
      ],
      "metadata": {
        "colab": {
          "base_uri": "https://localhost:8080/"
        },
        "id": "IWhndf3fSKL_",
        "outputId": "c704b5f1-3bcf-4519-ad1f-a8238caf7396"
      },
      "execution_count": 12,
      "outputs": [
        {
          "output_type": "stream",
          "name": "stdout",
          "text": [
            "\u001b[1m3/3\u001b[0m \u001b[32m━━━━━━━━━━━━━━━━━━━━\u001b[0m\u001b[37m\u001b[0m \u001b[1m1s\u001b[0m 239ms/step - accuracy: 0.7908 - loss: 0.8575\n",
            "Test accuracy: 0.7983651161193848\n"
          ]
        }
      ]
    },
    {
      "cell_type": "code",
      "source": [
        "# MODEL CREATION 3\n",
        "base_model = vgg16.VGG16(\n",
        "include_top=False,\n",
        "weights=\"imagenet\", # pretrained weights\n",
        "input_shape=IMG_SIZE + (3,)\n",
        ")\n",
        "# Freeze or unfreeze layers\n",
        "for layer in base_model.layers:\n",
        "  layer.trainable = False"
      ],
      "metadata": {
        "id": "TeQYDQ3xSdO_"
      },
      "execution_count": 13,
      "outputs": []
    },
    {
      "cell_type": "code",
      "source": [
        "# Classification head 3\n",
        "x = layers.GlobalAveragePooling2D()(base_model.output) # pooling layer\n",
        "x = layers.Dropout(0.7)(x) # dropout rate\n",
        "outputs = layers.Dense(num_classes, activation=\"softmax\")(x)\n",
        "model = models.Model(inputs=base_model.input, outputs=outputs)"
      ],
      "metadata": {
        "id": "SZpwG0q1SnZe"
      },
      "execution_count": 14,
      "outputs": []
    },
    {
      "cell_type": "code",
      "source": [
        "\n",
        "# COMPILATION 3\n",
        "model.compile(\n",
        "optimizer=tf.keras.optimizers.Adam(learning_rate=0.001),\n",
        "loss=\"sparse_categorical_crossentropy\", # loss function\n",
        "metrics=[ \"accuracy\" ]\n",
        ")\n",
        "\n"
      ],
      "metadata": {
        "id": "PnhBc7dKTM53"
      },
      "execution_count": 15,
      "outputs": []
    },
    {
      "cell_type": "code",
      "source": [
        "# TRAINING 3\n",
        "history = model.fit(\n",
        "train_ds,\n",
        "validation_data=val_ds,\n",
        "epochs=10\n",
        ")"
      ],
      "metadata": {
        "colab": {
          "base_uri": "https://localhost:8080/"
        },
        "id": "KVcwReCBTT8W",
        "outputId": "e93ff7d5-f879-470c-a3bb-d17a0e866243"
      },
      "execution_count": 16,
      "outputs": [
        {
          "output_type": "stream",
          "name": "stdout",
          "text": [
            "Epoch 1/10\n",
            "\u001b[1m23/23\u001b[0m \u001b[32m━━━━━━━━━━━━━━━━━━━━\u001b[0m\u001b[37m\u001b[0m \u001b[1m16s\u001b[0m 502ms/step - accuracy: 0.1780 - loss: 9.5145 - val_accuracy: 0.2534 - val_loss: 6.1465\n",
            "Epoch 2/10\n",
            "\u001b[1m23/23\u001b[0m \u001b[32m━━━━━━━━━━━━━━━━━━━━\u001b[0m\u001b[37m\u001b[0m \u001b[1m9s\u001b[0m 404ms/step - accuracy: 0.2373 - loss: 8.4410 - val_accuracy: 0.4632 - val_loss: 3.5349\n",
            "Epoch 3/10\n",
            "\u001b[1m23/23\u001b[0m \u001b[32m━━━━━━━━━━━━━━━━━━━━\u001b[0m\u001b[37m\u001b[0m \u001b[1m8s\u001b[0m 341ms/step - accuracy: 0.3353 - loss: 6.7424 - val_accuracy: 0.6485 - val_loss: 1.7381\n",
            "Epoch 4/10\n",
            "\u001b[1m23/23\u001b[0m \u001b[32m━━━━━━━━━━━━━━━━━━━━\u001b[0m\u001b[37m\u001b[0m \u001b[1m9s\u001b[0m 379ms/step - accuracy: 0.4214 - loss: 5.1114 - val_accuracy: 0.7384 - val_loss: 1.3510\n",
            "Epoch 5/10\n",
            "\u001b[1m23/23\u001b[0m \u001b[32m━━━━━━━━━━━━━━━━━━━━\u001b[0m\u001b[37m\u001b[0m \u001b[1m9s\u001b[0m 390ms/step - accuracy: 0.5134 - loss: 3.7692 - val_accuracy: 0.7657 - val_loss: 1.1598\n",
            "Epoch 6/10\n",
            "\u001b[1m23/23\u001b[0m \u001b[32m━━━━━━━━━━━━━━━━━━━━\u001b[0m\u001b[37m\u001b[0m \u001b[1m11s\u001b[0m 430ms/step - accuracy: 0.5989 - loss: 2.9004 - val_accuracy: 0.7902 - val_loss: 1.0287\n",
            "Epoch 7/10\n",
            "\u001b[1m23/23\u001b[0m \u001b[32m━━━━━━━━━━━━━━━━━━━━\u001b[0m\u001b[37m\u001b[0m \u001b[1m8s\u001b[0m 330ms/step - accuracy: 0.6081 - loss: 2.6068 - val_accuracy: 0.8038 - val_loss: 0.9387\n",
            "Epoch 8/10\n",
            "\u001b[1m23/23\u001b[0m \u001b[32m━━━━━━━━━━━━━━━━━━━━\u001b[0m\u001b[37m\u001b[0m \u001b[1m11s\u001b[0m 339ms/step - accuracy: 0.6506 - loss: 2.2337 - val_accuracy: 0.8093 - val_loss: 0.8609\n",
            "Epoch 9/10\n",
            "\u001b[1m23/23\u001b[0m \u001b[32m━━━━━━━━━━━━━━━━━━━━\u001b[0m\u001b[37m\u001b[0m \u001b[1m11s\u001b[0m 366ms/step - accuracy: 0.6851 - loss: 1.8870 - val_accuracy: 0.8283 - val_loss: 0.7774\n",
            "Epoch 10/10\n",
            "\u001b[1m23/23\u001b[0m \u001b[32m━━━━━━━━━━━━━━━━━━━━\u001b[0m\u001b[37m\u001b[0m \u001b[1m9s\u001b[0m 392ms/step - accuracy: 0.6856 - loss: 1.7619 - val_accuracy: 0.8392 - val_loss: 0.7254\n"
          ]
        }
      ]
    },
    {
      "cell_type": "code",
      "source": [
        "# EVALUATION 3\n",
        "test_loss, test_acc = model.evaluate(test_ds)\n",
        "print(\"Test accuracy:\", test_acc)"
      ],
      "metadata": {
        "colab": {
          "base_uri": "https://localhost:8080/"
        },
        "id": "UfLls3y9TXrW",
        "outputId": "081378df-2c5c-4362-ec30-2bac57ecd77d"
      },
      "execution_count": 17,
      "outputs": [
        {
          "output_type": "stream",
          "name": "stdout",
          "text": [
            "\u001b[1m3/3\u001b[0m \u001b[32m━━━━━━━━━━━━━━━━━━━━\u001b[0m\u001b[37m\u001b[0m \u001b[1m1s\u001b[0m 244ms/step - accuracy: 0.8296 - loss: 0.7052\n",
            "Test accuracy: 0.8446866273880005\n"
          ]
        }
      ]
    },
    {
      "cell_type": "code",
      "source": [
        "# MODEL CREATION 4\n",
        "base_model = vgg16.VGG16(\n",
        "include_top=False,\n",
        "weights=\"imagenet\", # pretrained weights\n",
        "input_shape=IMG_SIZE + (3,)\n",
        ")\n",
        "# Freeze or unfreeze layers\n",
        "for layer in base_model.layers:\n",
        "  layer.trainable = False"
      ],
      "metadata": {
        "id": "2G0XSHnsTr57"
      },
      "execution_count": 4,
      "outputs": []
    },
    {
      "cell_type": "code",
      "source": [
        "# Classification head 4\n",
        "x = layers.GlobalAveragePooling2D()(base_model.output) # pooling layer\n",
        "x = layers.Dropout(0.9)(x) # dropout rate\n",
        "outputs = layers.Dense(num_classes, activation=\"softmax\")(x)\n",
        "model = models.Model(inputs=base_model.input, outputs=outputs)"
      ],
      "metadata": {
        "id": "yaqtgsMsa9Og"
      },
      "execution_count": 5,
      "outputs": []
    },
    {
      "cell_type": "code",
      "source": [
        "# COMPILATION 4\n",
        "model.compile(\n",
        "optimizer=tf.keras.optimizers.Adam(learning_rate=0.001),\n",
        "loss=\"sparse_categorical_crossentropy\", # loss function\n",
        "metrics=[ \"accuracy\" ]\n",
        ")\n"
      ],
      "metadata": {
        "id": "NzwzcQGpbC6u"
      },
      "execution_count": 6,
      "outputs": []
    },
    {
      "cell_type": "code",
      "source": [
        "# TRAINING 4\n",
        "history = model.fit(\n",
        "train_ds,\n",
        "validation_data=val_ds,\n",
        "epochs=10\n",
        ")"
      ],
      "metadata": {
        "colab": {
          "base_uri": "https://localhost:8080/"
        },
        "id": "MtLR9RanbJk4",
        "outputId": "7b276b23-1155-461b-d8a0-667fe1f4a8fa"
      },
      "execution_count": 7,
      "outputs": [
        {
          "output_type": "stream",
          "name": "stdout",
          "text": [
            "Epoch 1/10\n",
            "\u001b[1m23/23\u001b[0m \u001b[32m━━━━━━━━━━━━━━━━━━━━\u001b[0m\u001b[37m\u001b[0m \u001b[1m125s\u001b[0m 4s/step - accuracy: 0.2292 - loss: 9.6368 - val_accuracy: 0.3760 - val_loss: 4.1884\n",
            "Epoch 2/10\n",
            "\u001b[1m23/23\u001b[0m \u001b[32m━━━━━━━━━━━━━━━━━━━━\u001b[0m\u001b[37m\u001b[0m \u001b[1m9s\u001b[0m 379ms/step - accuracy: 0.2561 - loss: 9.2287 - val_accuracy: 0.4768 - val_loss: 3.1677\n",
            "Epoch 3/10\n",
            "\u001b[1m23/23\u001b[0m \u001b[32m━━━━━━━━━━━━━━━━━━━━\u001b[0m\u001b[37m\u001b[0m \u001b[1m10s\u001b[0m 376ms/step - accuracy: 0.2835 - loss: 8.8833 - val_accuracy: 0.5613 - val_loss: 2.4929\n",
            "Epoch 4/10\n",
            "\u001b[1m23/23\u001b[0m \u001b[32m━━━━━━━━━━━━━━━━━━━━\u001b[0m\u001b[37m\u001b[0m \u001b[1m11s\u001b[0m 401ms/step - accuracy: 0.3166 - loss: 8.0811 - val_accuracy: 0.6403 - val_loss: 1.9702\n",
            "Epoch 5/10\n",
            "\u001b[1m23/23\u001b[0m \u001b[32m━━━━━━━━━━━━━━━━━━━━\u001b[0m\u001b[37m\u001b[0m \u001b[1m9s\u001b[0m 328ms/step - accuracy: 0.3410 - loss: 7.6915 - val_accuracy: 0.6703 - val_loss: 1.8099\n",
            "Epoch 6/10\n",
            "\u001b[1m23/23\u001b[0m \u001b[32m━━━━━━━━━━━━━━━━━━━━\u001b[0m\u001b[37m\u001b[0m \u001b[1m11s\u001b[0m 343ms/step - accuracy: 0.3750 - loss: 6.7015 - val_accuracy: 0.6948 - val_loss: 1.6552\n",
            "Epoch 7/10\n",
            "\u001b[1m23/23\u001b[0m \u001b[32m━━━━━━━━━━━━━━━━━━━━\u001b[0m\u001b[37m\u001b[0m \u001b[1m10s\u001b[0m 343ms/step - accuracy: 0.4136 - loss: 6.1304 - val_accuracy: 0.7330 - val_loss: 1.4853\n",
            "Epoch 8/10\n",
            "\u001b[1m23/23\u001b[0m \u001b[32m━━━━━━━━━━━━━━━━━━━━\u001b[0m\u001b[37m\u001b[0m \u001b[1m9s\u001b[0m 378ms/step - accuracy: 0.4376 - loss: 5.4335 - val_accuracy: 0.7466 - val_loss: 1.3592\n",
            "Epoch 9/10\n",
            "\u001b[1m23/23\u001b[0m \u001b[32m━━━━━━━━━━━━━━━━━━━━\u001b[0m\u001b[37m\u001b[0m \u001b[1m10s\u001b[0m 390ms/step - accuracy: 0.4433 - loss: 5.3115 - val_accuracy: 0.7684 - val_loss: 1.1485\n",
            "Epoch 10/10\n",
            "\u001b[1m23/23\u001b[0m \u001b[32m━━━━━━━━━━━━━━━━━━━━\u001b[0m\u001b[37m\u001b[0m \u001b[1m9s\u001b[0m 334ms/step - accuracy: 0.4600 - loss: 4.8998 - val_accuracy: 0.7793 - val_loss: 1.0442\n"
          ]
        }
      ]
    },
    {
      "cell_type": "code",
      "source": [
        "# EVALUATION 4\n",
        "test_loss, test_acc = model.evaluate(test_ds)\n",
        "print(\"Test accuracy:\", test_acc)"
      ],
      "metadata": {
        "id": "mPy7xXuDbMW9",
        "colab": {
          "base_uri": "https://localhost:8080/"
        },
        "outputId": "90ae7736-d0c4-4fb8-cd9d-a53a9981037d"
      },
      "execution_count": 8,
      "outputs": [
        {
          "output_type": "stream",
          "name": "stdout",
          "text": [
            "\u001b[1m3/3\u001b[0m \u001b[32m━━━━━━━━━━━━━━━━━━━━\u001b[0m\u001b[37m\u001b[0m \u001b[1m1s\u001b[0m 365ms/step - accuracy: 0.8134 - loss: 0.9098\n",
            "Test accuracy: 0.8065395355224609\n"
          ]
        }
      ]
    },
    {
      "cell_type": "code",
      "source": [
        "#experiment 5\n",
        "# MODEL CREATION 5 (Quick Version)\n",
        "base_model = vgg16.VGG16(\n",
        "    include_top=False,\n",
        "    weights=\"imagenet\",\n",
        "    input_shape=IMG_SIZE + (3,)\n",
        ")\n",
        "\n",
        "# Instead of half, unfreeze just the last block (faster training)\n",
        "for layer in base_model.layers:\n",
        "    layer.trainable = False\n",
        "for layer in base_model.layers[-4:]:\n",
        "    layer.trainable = True\n",
        "\n"
      ],
      "metadata": {
        "id": "QeYBMqj8zSXF"
      },
      "execution_count": 4,
      "outputs": []
    },
    {
      "cell_type": "code",
      "source": [
        "# Classification head\n",
        "x = layers.GlobalAveragePooling2D()(base_model.output)\n",
        "x = layers.Dropout(0.3)(x)\n",
        "outputs = layers.Dense(num_classes, activation=\"softmax\")(x)\n",
        "\n",
        "model = models.Model(inputs=base_model.input, outputs=outputs)"
      ],
      "metadata": {
        "id": "ga_yqNdR0u4B"
      },
      "execution_count": 5,
      "outputs": []
    },
    {
      "cell_type": "code",
      "source": [
        "\n",
        "# COMPILATION 5\n",
        "model.compile(\n",
        "    optimizer=tf.keras.optimizers.Adam(learning_rate=5e-5),\n",
        "    loss=\"sparse_categorical_crossentropy\",\n",
        "    metrics=[\"accuracy\"]\n",
        ")\n",
        "\n"
      ],
      "metadata": {
        "id": "YX0OHC2F51u0"
      },
      "execution_count": 6,
      "outputs": []
    },
    {
      "cell_type": "code",
      "source": [
        "\n",
        "# TRAINING 5\n",
        "\n",
        "history = model.fit(\n",
        "    train_ds,\n",
        "    validation_data=val_ds,\n",
        "    epochs=5   )\n"
      ],
      "metadata": {
        "colab": {
          "base_uri": "https://localhost:8080/"
        },
        "id": "7fC0W9-56tzy",
        "outputId": "8f29d56e-fa33-4688-aae8-12341013e852"
      },
      "execution_count": 7,
      "outputs": [
        {
          "output_type": "stream",
          "name": "stdout",
          "text": [
            "Epoch 1/5\n",
            "\u001b[1m23/23\u001b[0m \u001b[32m━━━━━━━━━━━━━━━━━━━━\u001b[0m\u001b[37m\u001b[0m \u001b[1m149s\u001b[0m 4s/step - accuracy: 0.1851 - loss: 6.9336 - val_accuracy: 0.4605 - val_loss: 1.3991\n",
            "Epoch 2/5\n",
            "\u001b[1m23/23\u001b[0m \u001b[32m━━━━━━━━━━━━━━━━━━━━\u001b[0m\u001b[37m\u001b[0m \u001b[1m9s\u001b[0m 373ms/step - accuracy: 0.5235 - loss: 1.2481 - val_accuracy: 0.7738 - val_loss: 0.6222\n",
            "Epoch 3/5\n",
            "\u001b[1m23/23\u001b[0m \u001b[32m━━━━━━━━━━━━━━━━━━━━\u001b[0m\u001b[37m\u001b[0m \u001b[1m10s\u001b[0m 360ms/step - accuracy: 0.7576 - loss: 0.6848 - val_accuracy: 0.8556 - val_loss: 0.4045\n",
            "Epoch 4/5\n",
            "\u001b[1m23/23\u001b[0m \u001b[32m━━━━━━━━━━━━━━━━━━━━\u001b[0m\u001b[37m\u001b[0m \u001b[1m10s\u001b[0m 343ms/step - accuracy: 0.8576 - loss: 0.3890 - val_accuracy: 0.8774 - val_loss: 0.3565\n",
            "Epoch 5/5\n",
            "\u001b[1m23/23\u001b[0m \u001b[32m━━━━━━━━━━━━━━━━━━━━\u001b[0m\u001b[37m\u001b[0m \u001b[1m9s\u001b[0m 378ms/step - accuracy: 0.9037 - loss: 0.2612 - val_accuracy: 0.8910 - val_loss: 0.3194\n"
          ]
        }
      ]
    },
    {
      "cell_type": "code",
      "source": [
        "# Evaluate\n",
        "test_loss, test_acc = model.evaluate(test_ds)\n",
        "print(f\"Test accuracy: {test_acc:.4f}\")"
      ],
      "metadata": {
        "colab": {
          "base_uri": "https://localhost:8080/"
        },
        "id": "2tLFDj8d6wJ8",
        "outputId": "3371ac5e-9856-4ae4-d073-ffd97bc2bbcf"
      },
      "execution_count": 8,
      "outputs": [
        {
          "output_type": "stream",
          "name": "stdout",
          "text": [
            "\u001b[1m3/3\u001b[0m \u001b[32m━━━━━━━━━━━━━━━━━━━━\u001b[0m\u001b[37m\u001b[0m \u001b[1m2s\u001b[0m 708ms/step - accuracy: 0.9148 - loss: 0.2639\n",
            "Test accuracy: 0.9155\n"
          ]
        }
      ]
    },
    {
      "cell_type": "code",
      "source": [],
      "metadata": {
        "id": "QiKgYiLG-w4J"
      },
      "execution_count": null,
      "outputs": []
    }
  ]
}